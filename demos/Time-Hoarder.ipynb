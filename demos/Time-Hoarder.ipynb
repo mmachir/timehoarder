{
 "cells": [
  {
   "cell_type": "code",
   "execution_count": 1,
   "id": "9dc1e515-92fa-4acd-9730-ff0675c3841c",
   "metadata": {},
   "outputs": [],
   "source": [
    "import datetime as dt\n",
    "\n",
    "from timehoarder import get_calendar, get_appointments, check_meeting_load, flag_overbooked, hoard_time"
   ]
  },
  {
   "cell_type": "markdown",
   "id": "508c9cd2-6df3-4440-8dd4-b164984bf37a",
   "metadata": {},
   "source": [
    "### Check your meetings for a specified time range"
   ]
  },
  {
   "cell_type": "code",
   "execution_count": null,
   "id": "dabe72ec-748c-43fe-9799-4c9efdb16640",
   "metadata": {
    "tags": []
   },
   "outputs": [],
   "source": [
    "begin = dt.datetime(2021,11,9)\n",
    "end = dt.datetime(2021,11,12)\n",
    "\n",
    "cal = get_calendar(begin, end)\n",
    "appointments = get_appointments(cal)\n",
    "print(f\"Total meetings: {appointments.shape[0]}\")\n",
    "appointments.head()"
   ]
  },
  {
   "cell_type": "markdown",
   "id": "acac06c2-0f93-4981-a8ec-9fd96047d8a0",
   "metadata": {},
   "source": [
    "### Visualize your total meeting load"
   ]
  },
  {
   "cell_type": "code",
   "execution_count": 3,
   "id": "f8056f2f-3979-4993-b3a3-2c7be1a6f211",
   "metadata": {},
   "outputs": [
    {
     "data": {
      "text/html": [
       "<style type=\"text/css\">\n",
       "#T_ef1c2_row0_col2 {\n",
       "  background-color: #023858;\n",
       "  color: #f1f1f1;\n",
       "}\n",
       "#T_ef1c2_row1_col2 {\n",
       "  background-color: #03476f;\n",
       "  color: #f1f1f1;\n",
       "}\n",
       "#T_ef1c2_row2_col2 {\n",
       "  background-color: #fff7fb;\n",
       "  color: #000000;\n",
       "}\n",
       "</style>\n",
       "<table id=\"T_ef1c2_\">\n",
       "  <thead>\n",
       "    <tr>\n",
       "      <th class=\"blank level0\" >&nbsp;</th>\n",
       "      <th class=\"col_heading level0 col0\" >date</th>\n",
       "      <th class=\"col_heading level0 col1\" >weekday</th>\n",
       "      <th class=\"col_heading level0 col2\" >duration</th>\n",
       "    </tr>\n",
       "  </thead>\n",
       "  <tbody>\n",
       "    <tr>\n",
       "      <th id=\"T_ef1c2_level0_row0\" class=\"row_heading level0 row0\" >0</th>\n",
       "      <td id=\"T_ef1c2_row0_col0\" class=\"data row0 col0\" >2021-11-09</td>\n",
       "      <td id=\"T_ef1c2_row0_col1\" class=\"data row0 col1\" >Tuesday</td>\n",
       "      <td id=\"T_ef1c2_row0_col2\" class=\"data row0 col2\" >7.250000</td>\n",
       "    </tr>\n",
       "    <tr>\n",
       "      <th id=\"T_ef1c2_level0_row1\" class=\"row_heading level0 row1\" >1</th>\n",
       "      <td id=\"T_ef1c2_row1_col0\" class=\"data row1 col0\" >2021-11-10</td>\n",
       "      <td id=\"T_ef1c2_row1_col1\" class=\"data row1 col1\" >Wednesday</td>\n",
       "      <td id=\"T_ef1c2_row1_col2\" class=\"data row1 col2\" >7.000000</td>\n",
       "    </tr>\n",
       "    <tr>\n",
       "      <th id=\"T_ef1c2_level0_row2\" class=\"row_heading level0 row2\" >2</th>\n",
       "      <td id=\"T_ef1c2_row2_col0\" class=\"data row2 col0\" >2021-11-12</td>\n",
       "      <td id=\"T_ef1c2_row2_col1\" class=\"data row2 col1\" >Friday</td>\n",
       "      <td id=\"T_ef1c2_row2_col2\" class=\"data row2 col2\" >2.750000</td>\n",
       "    </tr>\n",
       "  </tbody>\n",
       "</table>\n"
      ],
      "text/plain": [
       "<pandas.io.formats.style.Styler at 0x198246525b0>"
      ]
     },
     "execution_count": 3,
     "metadata": {},
     "output_type": "execute_result"
    }
   ],
   "source": [
    "mtgload = check_meeting_load(appointments)\n",
    "mtgload"
   ]
  },
  {
   "cell_type": "markdown",
   "id": "a9b1c718-d022-43ea-bfd7-50cb7d94f0d6",
   "metadata": {},
   "source": [
    "### Hone in on overbooked days"
   ]
  },
  {
   "cell_type": "code",
   "execution_count": 4,
   "id": "d2b689d3-2358-40e1-a179-4e334e5e3e12",
   "metadata": {
    "tags": []
   },
   "outputs": [
    {
     "data": {
      "text/html": [
       "<div>\n",
       "<style scoped>\n",
       "    .dataframe tbody tr th:only-of-type {\n",
       "        vertical-align: middle;\n",
       "    }\n",
       "\n",
       "    .dataframe tbody tr th {\n",
       "        vertical-align: top;\n",
       "    }\n",
       "\n",
       "    .dataframe thead th {\n",
       "        text-align: right;\n",
       "    }\n",
       "</style>\n",
       "<table border=\"1\" class=\"dataframe\">\n",
       "  <thead>\n",
       "    <tr style=\"text-align: right;\">\n",
       "      <th></th>\n",
       "      <th>date</th>\n",
       "      <th>weekday</th>\n",
       "      <th>duration</th>\n",
       "    </tr>\n",
       "  </thead>\n",
       "  <tbody>\n",
       "    <tr>\n",
       "      <th>1</th>\n",
       "      <td>2021-11-10</td>\n",
       "      <td>Wednesday</td>\n",
       "      <td>7.0</td>\n",
       "    </tr>\n",
       "  </tbody>\n",
       "</table>\n",
       "</div>"
      ],
      "text/plain": [
       "         date    weekday  duration\n",
       "1  2021-11-10  Wednesday       7.0"
      ]
     },
     "execution_count": 4,
     "metadata": {},
     "output_type": "execute_result"
    }
   ],
   "source": [
    "# set the number of hours per weekday that are acceptable\n",
    "max_daily = {\n",
    "    'Monday':2,\n",
    "    'Tuesday':9,\n",
    "    'Wednesday':5,\n",
    "    'Thursday':3,\n",
    "    'Friday':5,\n",
    "}\n",
    "\n",
    "overbooked_days = flag_overbooked(appointments, max_daily_load=max_daily)\n",
    "overbooked_days"
   ]
  },
  {
   "cell_type": "code",
   "execution_count": 5,
   "id": "12439864-c600-4901-808a-8fe5d650f81d",
   "metadata": {},
   "outputs": [
    {
     "data": {
      "text/html": [
       "<div>\n",
       "<style scoped>\n",
       "    .dataframe tbody tr th:only-of-type {\n",
       "        vertical-align: middle;\n",
       "    }\n",
       "\n",
       "    .dataframe tbody tr th {\n",
       "        vertical-align: top;\n",
       "    }\n",
       "\n",
       "    .dataframe thead th {\n",
       "        text-align: right;\n",
       "    }\n",
       "</style>\n",
       "<table border=\"1\" class=\"dataframe\">\n",
       "  <thead>\n",
       "    <tr style=\"text-align: right;\">\n",
       "      <th></th>\n",
       "      <th>date</th>\n",
       "      <th>weekday</th>\n",
       "      <th>duration</th>\n",
       "    </tr>\n",
       "  </thead>\n",
       "  <tbody>\n",
       "    <tr>\n",
       "      <th>0</th>\n",
       "      <td>2021-11-09</td>\n",
       "      <td>Tuesday</td>\n",
       "      <td>7.25</td>\n",
       "    </tr>\n",
       "    <tr>\n",
       "      <th>1</th>\n",
       "      <td>2021-11-10</td>\n",
       "      <td>Wednesday</td>\n",
       "      <td>7.00</td>\n",
       "    </tr>\n",
       "  </tbody>\n",
       "</table>\n",
       "</div>"
      ],
      "text/plain": [
       "         date    weekday  duration\n",
       "0  2021-11-09    Tuesday      7.25\n",
       "1  2021-11-10  Wednesday      7.00"
      ]
     },
     "execution_count": 5,
     "metadata": {},
     "output_type": "execute_result"
    }
   ],
   "source": [
    "# or set a single value for all days, e.g. 5 hours\n",
    "overbooked_days = flag_overbooked(appointments, max_daily_load=5)\n",
    "overbooked_days"
   ]
  },
  {
   "cell_type": "markdown",
   "id": "1284277a-53fd-4415-9172-20ac78ada22a",
   "metadata": {},
   "source": [
    "### Hoard time by scheduling \"focus time\" appointments on overbooked days\n",
    "This function will add an appointment of your specified length (hoard_hours) at the first available opportunity on your overbooked days. If there is not a time of your desired length available, you will see a message indicating that."
   ]
  },
  {
   "cell_type": "code",
   "execution_count": 6,
   "id": "2cb2cff3-b67a-4b41-be25-7a90241e4e8c",
   "metadata": {
    "tags": []
   },
   "outputs": [
    {
     "name": "stdout",
     "output_type": "stream",
     "text": [
      "Creating 1.5 hour event starting at 15:30:00 on 2021-11-09\n",
      "Creating 1.5 hour event starting at 12:00:00 on 2021-11-10\n"
     ]
    }
   ],
   "source": [
    "hoard_time(overbooked_days, 'Focus time', hoard_hours=1.5, appointments=appointments, pref_am_pm='PM')"
   ]
  },
  {
   "cell_type": "markdown",
   "id": "07fdd1b5-dd96-4b68-9638-b47ded65d65e",
   "metadata": {},
   "source": [
    "### Or block off overbooked days by scheduling full day appointments to prevent further meeting incursions"
   ]
  },
  {
   "cell_type": "code",
   "execution_count": 7,
   "id": "30df4e1c-0137-4edc-b388-bd684f97348b",
   "metadata": {},
   "outputs": [
    {
     "name": "stdout",
     "output_type": "stream",
     "text": [
      "Creating full day event to block additional meetings on 2021-11-09\n",
      "Creating full day event to block additional meetings on 2021-11-10\n"
     ]
    }
   ],
   "source": [
    "hoard_time(overbooked_days, 'Meeting Block')"
   ]
  },
  {
   "cell_type": "code",
   "execution_count": null,
   "id": "b41b1c3e-fb60-4acb-aa7e-1f5264733723",
   "metadata": {},
   "outputs": [],
   "source": []
  }
 ],
 "metadata": {
  "kernelspec": {
   "display_name": "Python 3 (ipykernel)",
   "language": "python",
   "name": "python3"
  },
  "language_info": {
   "codemirror_mode": {
    "name": "ipython",
    "version": 3
   },
   "file_extension": ".py",
   "mimetype": "text/x-python",
   "name": "python",
   "nbconvert_exporter": "python",
   "pygments_lexer": "ipython3",
   "version": "3.9.7"
  }
 },
 "nbformat": 4,
 "nbformat_minor": 5
}
